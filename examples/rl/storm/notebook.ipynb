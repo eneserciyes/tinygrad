{
 "cells": [
  {
   "cell_type": "code",
   "execution_count": null,
   "metadata": {},
   "outputs": [],
   "source": [
    "import argparse\n",
    "from omegaconf import OmegaConf\n",
    "import gymnasium\n",
    "from world_models import WorldModel\n",
    "\n",
    "import colorama\n",
    "import numpy as np\n",
    "from tinygrad import Tensor, nn\n",
    "from tinygrad.nn.state import get_parameters, get_state_dict\n",
    "\n",
    "import env_wrapper"
   ]
  },
  {
   "cell_type": "code",
   "execution_count": null,
   "metadata": {},
   "outputs": [],
   "source": [
    "def build_single_env(env_name, image_size, seed):\n",
    "  env = gymnasium.make(env_name, full_action_space=False, render_mode=\"rgb_array\", frameskip=1)\n",
    "  env = env_wrapper.SeedEnvWrapper(env, seed=seed)\n",
    "  env = env_wrapper.MaxLast2FrameSkipWrapper(env, skip=4)\n",
    "  env = gymnasium.wrappers.ResizeObservation(env, shape=image_size)\n",
    "  env = env_wrapper.LifeLossInfo(env)\n",
    "  return env"
   ]
  },
  {
   "cell_type": "code",
   "execution_count": null,
   "metadata": {},
   "outputs": [],
   "source": [
    "def build_world_model(conf, action_dim):\n",
    "    return WorldModel(\n",
    "        in_channels=conf.models.world_model.in_channels,\n",
    "        action_dim=action_dim,\n",
    "        transformer_max_length=conf.models.world_model.transformer_max_length,\n",
    "        transformer_hidden_dim=conf.models.world_model.transformer_hidden_dim,\n",
    "        transformer_num_layers=conf.models.world_model.transformer_num_layers,\n",
    "        transformer_num_heads=conf.models.world_model.transformer_num_heads\n",
    "    )"
   ]
  },
  {
   "cell_type": "code",
   "execution_count": null,
   "metadata": {},
   "outputs": [],
   "source": [
    "parser = argparse.ArgumentParser()\n",
    "parser.add_argument(\"-n\", type=str, required=True)\n",
    "parser.add_argument(\"-seed\", type=int, required=True)\n",
    "parser.add_argument(\"-config_path\", type=str, required=True)\n",
    "parser.add_argument(\"-env_name\", type=str, required=True)\n",
    "parser.add_argument(\"-trajectory_path\", type=str, required=True)\n",
    "args = parser.parse_args([\n",
    "    \"-n\", \"MsPacman\",\n",
    "    \"-seed\", \"1\",\n",
    "    \"-config_path\", \"STORM.yaml\",\n",
    "    \"-env_name\", \"ALE/MsPacman-v5\",\n",
    "    \"-trajectory_path\", \"D_TRAJ/MsPacman.pkl\"\n",
    "])\n",
    "conf = OmegaConf.load(args.config_path)"
   ]
  },
  {
   "cell_type": "code",
   "execution_count": null,
   "metadata": {},
   "outputs": [],
   "source": [
    "print(colorama.Fore.RED + str(args) + colorama.Style.RESET_ALL)\n",
    "\n",
    "np.random.seed(args.seed)\n",
    "Tensor.manual_seed(args.seed)"
   ]
  },
  {
   "cell_type": "code",
   "execution_count": null,
   "metadata": {},
   "outputs": [],
   "source": [
    "dummy_env = build_single_env(args.env_name, conf.basic_settings.image_size, seed=0)\n",
    "action_dim = dummy_env.action_space.n.item()\n",
    "del dummy_env"
   ]
  },
  {
   "cell_type": "code",
   "execution_count": null,
   "metadata": {},
   "outputs": [],
   "source": [
    "world_model = build_world_model(conf, action_dim)"
   ]
  },
  {
   "cell_type": "code",
   "execution_count": null,
   "metadata": {},
   "outputs": [],
   "source": [
    "# i = 1\n",
    "# updatable_count = 0\n",
    "# for k, v in get_state_dict(world_model).items():\n",
    "#     print(i, \"- \", k, \": \", v.shape, \" -- \", v.requires_grad)\n",
    "#     if v.requires_grad is None: updatable_count += 1\n",
    "#     i+=1\n",
    "# print(\"Total updatable parameters: \", updatable_count)"
   ]
  },
  {
   "cell_type": "markdown",
   "metadata": {},
   "source": [
    "# World model safetensors from torch"
   ]
  },
  {
   "cell_type": "code",
   "execution_count": null,
   "metadata": {},
   "outputs": [],
   "source": [
    "from safetensors import safe_open"
   ]
  },
  {
   "cell_type": "code",
   "execution_count": null,
   "metadata": {},
   "outputs": [],
   "source": [
    "state_dict = {}\n",
    "with safe_open(\"world_model.safetensors\", framework=\"pt\", device=0) as f:\n",
    "    for k in f.keys():\n",
    "        state_dict[k] = f.get_tensor(k)"
   ]
  },
  {
   "cell_type": "code",
   "execution_count": null,
   "metadata": {},
   "outputs": [],
   "source": [
    "state_dict.keys()"
   ]
  },
  {
   "cell_type": "code",
   "execution_count": null,
   "metadata": {},
   "outputs": [],
   "source": [
    "Tensor(state_dict['dist_head.post_head.bias'].cpu().numpy())"
   ]
  },
  {
   "cell_type": "code",
   "execution_count": null,
   "metadata": {},
   "outputs": [],
   "source": [
    "for k, v in get_state_dict(world_model).items():\n",
    "    if k in state_dict.keys():\n",
    "        print(k, \" -- \", \"yes\")\n",
    "    else:\n",
    "        print(k, \" -- \", \"no\")"
   ]
  },
  {
   "cell_type": "code",
   "execution_count": null,
   "metadata": {},
   "outputs": [],
   "source": [
    "from tqdm import tqdm\n",
    "\n",
    "model_state_dict = get_state_dict(world_model)\n",
    "for k, v in tqdm(model_state_dict.items()):\n",
    "    if k in state_dict.keys():\n",
    "        if state_dict[k].ndim == 0: t = state_dict[k].reshape(1).cpu().numpy()\n",
    "        else: t = state_dict[k].cpu().numpy()\n",
    "        model_state_dict[k].assign(Tensor(t)).realize()"
   ]
  },
  {
   "cell_type": "code",
   "execution_count": null,
   "metadata": {},
   "outputs": [],
   "source": [
    "world_model_inputs = {}\n",
    "with safe_open(\"world_model_inputs.safetensors\", framework=\"pt\", device=0) as f:\n",
    "    for k in f.keys():\n",
    "        world_model_inputs[k] = f.get_tensor(k)\n",
    "\n",
    "world_model_inputs = {k: Tensor(v.cpu().numpy()) for k, v in world_model_inputs.items()}"
   ]
  },
  {
   "cell_type": "code",
   "execution_count": null,
   "metadata": {},
   "outputs": [],
   "source": [
    "with Tensor.train():\n",
    "    total_loss = world_model.loss(world_model_inputs[\"obs\"], world_model_inputs[\"action\"], world_model_inputs[\"reward\"], world_model_inputs[\"termination\"],logger=None)\n",
    "total_loss.backward()"
   ]
  },
  {
   "cell_type": "code",
   "execution_count": null,
   "metadata": {},
   "outputs": [],
   "source": [
    "total_loss.numpy()"
   ]
  },
  {
   "cell_type": "code",
   "execution_count": null,
   "metadata": {},
   "outputs": [],
   "source": [
    "world_model_outputs = {}\n",
    "with safe_open(\"world_model_outputs.safetensors\", framework=\"pt\", device=0) as f:\n",
    "    for k in f.keys():\n",
    "        world_model_outputs[k] = f.get_tensor(k)"
   ]
  },
  {
   "cell_type": "code",
   "execution_count": null,
   "metadata": {},
   "outputs": [],
   "source": [
    "grad_out = {}\n",
    "with safe_open(\"grad_out.safetensors\", framework=\"pt\", device=0) as f:\n",
    "    for k in f.keys():\n",
    "        grad_out[k] = f.get_tensor(k)"
   ]
  },
  {
   "cell_type": "code",
   "execution_count": null,
   "metadata": {},
   "outputs": [],
   "source": [
    "grad_out[\"encoder.backbone.0.weight.grad\"]"
   ]
  },
  {
   "cell_type": "code",
   "execution_count": null,
   "metadata": {},
   "outputs": [],
   "source": [
    "grad_out[\"termination_decoder.backbone.0.weight.grad\"]"
   ]
  },
  {
   "cell_type": "code",
   "execution_count": null,
   "metadata": {},
   "outputs": [],
   "source": [
    "world_model.encoder.backbone[0].weight"
   ]
  },
  {
   "cell_type": "code",
   "execution_count": null,
   "metadata": {},
   "outputs": [],
   "source": [
    "world_model_outputs[\"total_loss\"]"
   ]
  },
  {
   "cell_type": "code",
   "execution_count": null,
   "metadata": {},
   "outputs": [],
   "source": [
    "from tinygrad.nn.state import safe_load\n",
    "wm_out_tiny = safe_load(\"world_model_output_embed_post_logits.safetensors\")"
   ]
  },
  {
   "cell_type": "code",
   "execution_count": null,
   "metadata": {},
   "outputs": [],
   "source": [
    "wm_out_tiny[\"embedding\"].numpy()"
   ]
  },
  {
   "cell_type": "code",
   "execution_count": null,
   "metadata": {},
   "outputs": [],
   "source": [
    "world_model_outputs[\"embedding\"].cpu().numpy()"
   ]
  }
 ],
 "metadata": {
  "kernelspec": {
   "display_name": "base",
   "language": "python",
   "name": "python3"
  },
  "language_info": {
   "codemirror_mode": {
    "name": "ipython",
    "version": 3
   },
   "file_extension": ".py",
   "mimetype": "text/x-python",
   "name": "python",
   "nbconvert_exporter": "python",
   "pygments_lexer": "ipython3",
   "version": "3.10.12"
  }
 },
 "nbformat": 4,
 "nbformat_minor": 2
}
